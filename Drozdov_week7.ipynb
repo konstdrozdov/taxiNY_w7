{
 "cells": [
  {
   "cell_type": "markdown",
   "metadata": {},
   "source": [
    "## Такси Нью-Йорка. Неделя 7\n",
    "\n",
    "### Лучше запускать код через браузер chrome - код в других браузерах, например, opera, медленно выполяется"
   ]
  },
  {
   "cell_type": "markdown",
   "metadata": {},
   "source": [
    "Будем использовать встроенные в jupyter notebook виджеты и библиотеки folium (отображение карт), plotly.offline."
   ]
  },
  {
   "cell_type": "code",
   "execution_count": 1,
   "metadata": {},
   "outputs": [
    {
     "data": {
      "text/html": [
       "<script>requirejs.config({paths: { 'plotly': ['https://cdn.plot.ly/plotly-latest.min']},});if(!window.Plotly) {{require(['plotly'],function(plotly) {window.Plotly=plotly;});}}</script>"
      ],
      "text/vnd.plotly.v1+html": [
       "<script>requirejs.config({paths: { 'plotly': ['https://cdn.plot.ly/plotly-latest.min']},});if(!window.Plotly) {{require(['plotly'],function(plotly) {window.Plotly=plotly;});}}</script>"
      ]
     },
     "metadata": {},
     "output_type": "display_data"
    },
    {
     "name": "stderr",
     "output_type": "stream",
     "text": [
      "Enabling notebook extension jupyter-js-widgets/extension...\n",
      "      - Validating: ok\n"
     ]
    }
   ],
   "source": [
    "import ipywidgets as wg\n",
    "from IPython.display import display\n",
    "import pandas as pd\n",
    "import numpy as np\n",
    "import datetime\n",
    "import plotly.offline\n",
    "import folium\n",
    "import geojson\n",
    "from plotly.graph_objs import *\n",
    "import warnings\n",
    "warnings.filterwarnings('ignore')\n",
    "\n",
    "plotly.offline.init_notebook_mode(connected=True)\n",
    "! jupyter nbextension enable --py --sys-prefix widgetsnbextension"
   ]
  },
  {
   "cell_type": "markdown",
   "metadata": {},
   "source": [
    "Загружаем факт и прогноз с прошлой недели:"
   ]
  },
  {
   "cell_type": "code",
   "execution_count": 2,
   "metadata": {
    "collapsed": true
   },
   "outputs": [],
   "source": [
    "forecast = pd.read_csv('jun_week6.csv')\n",
    "data = pd.read_csv('june.csv')\n",
    "data = data.rename(columns = {'Unnamed: 0': 'start_datetime'})\n",
    "data = data.set_index('start_datetime')"
   ]
  },
  {
   "cell_type": "markdown",
   "metadata": {},
   "source": [
    "Преобразуем датафрейм:"
   ]
  },
  {
   "cell_type": "code",
   "execution_count": 3,
   "metadata": {},
   "outputs": [
    {
     "data": {
      "text/html": [
       "<div>\n",
       "<style>\n",
       "    .dataframe thead tr:only-child th {\n",
       "        text-align: right;\n",
       "    }\n",
       "\n",
       "    .dataframe thead th {\n",
       "        text-align: left;\n",
       "    }\n",
       "\n",
       "    .dataframe tbody tr th {\n",
       "        vertical-align: top;\n",
       "    }\n",
       "</style>\n",
       "<table border=\"1\" class=\"dataframe\">\n",
       "  <thead>\n",
       "    <tr style=\"text-align: right;\">\n",
       "      <th></th>\n",
       "      <th>id</th>\n",
       "      <th>y</th>\n",
       "      <th>num</th>\n",
       "      <th>date</th>\n",
       "      <th>hour</th>\n",
       "      <th>step</th>\n",
       "      <th>datetime</th>\n",
       "      <th>forecast_date</th>\n",
       "    </tr>\n",
       "  </thead>\n",
       "  <tbody>\n",
       "    <tr>\n",
       "      <th>0</th>\n",
       "      <td>1441_2016-05-31_23_1</td>\n",
       "      <td>3.559837</td>\n",
       "      <td>1441</td>\n",
       "      <td>2016-05-31</td>\n",
       "      <td>23</td>\n",
       "      <td>1</td>\n",
       "      <td>2016-05-31 23:00:00</td>\n",
       "      <td>2016-06-01 00:00:00</td>\n",
       "    </tr>\n",
       "    <tr>\n",
       "      <th>1</th>\n",
       "      <td>1441_2016-05-31_23_2</td>\n",
       "      <td>2.107765</td>\n",
       "      <td>1441</td>\n",
       "      <td>2016-05-31</td>\n",
       "      <td>23</td>\n",
       "      <td>2</td>\n",
       "      <td>2016-05-31 23:00:00</td>\n",
       "      <td>2016-06-01 01:00:00</td>\n",
       "    </tr>\n",
       "    <tr>\n",
       "      <th>2</th>\n",
       "      <td>1441_2016-05-31_23_3</td>\n",
       "      <td>2.661957</td>\n",
       "      <td>1441</td>\n",
       "      <td>2016-05-31</td>\n",
       "      <td>23</td>\n",
       "      <td>3</td>\n",
       "      <td>2016-05-31 23:00:00</td>\n",
       "      <td>2016-06-01 02:00:00</td>\n",
       "    </tr>\n",
       "    <tr>\n",
       "      <th>3</th>\n",
       "      <td>1441_2016-05-31_23_4</td>\n",
       "      <td>0.791360</td>\n",
       "      <td>1441</td>\n",
       "      <td>2016-05-31</td>\n",
       "      <td>23</td>\n",
       "      <td>4</td>\n",
       "      <td>2016-05-31 23:00:00</td>\n",
       "      <td>2016-06-01 03:00:00</td>\n",
       "    </tr>\n",
       "    <tr>\n",
       "      <th>4</th>\n",
       "      <td>1441_2016-05-31_23_5</td>\n",
       "      <td>1.822353</td>\n",
       "      <td>1441</td>\n",
       "      <td>2016-05-31</td>\n",
       "      <td>23</td>\n",
       "      <td>5</td>\n",
       "      <td>2016-05-31 23:00:00</td>\n",
       "      <td>2016-06-01 04:00:00</td>\n",
       "    </tr>\n",
       "  </tbody>\n",
       "</table>\n",
       "</div>"
      ],
      "text/plain": [
       "                     id         y   num        date hour step  \\\n",
       "0  1441_2016-05-31_23_1  3.559837  1441  2016-05-31   23    1   \n",
       "1  1441_2016-05-31_23_2  2.107765  1441  2016-05-31   23    2   \n",
       "2  1441_2016-05-31_23_3  2.661957  1441  2016-05-31   23    3   \n",
       "3  1441_2016-05-31_23_4  0.791360  1441  2016-05-31   23    4   \n",
       "4  1441_2016-05-31_23_5  1.822353  1441  2016-05-31   23    5   \n",
       "\n",
       "             datetime       forecast_date  \n",
       "0 2016-05-31 23:00:00 2016-06-01 00:00:00  \n",
       "1 2016-05-31 23:00:00 2016-06-01 01:00:00  \n",
       "2 2016-05-31 23:00:00 2016-06-01 02:00:00  \n",
       "3 2016-05-31 23:00:00 2016-06-01 03:00:00  \n",
       "4 2016-05-31 23:00:00 2016-06-01 04:00:00  "
      ]
     },
     "execution_count": 3,
     "metadata": {},
     "output_type": "execute_result"
    }
   ],
   "source": [
    "forecast['num'], forecast['date'], forecast['hour'], forecast['step'] = zip(*forecast['id'].str.split('_')) # разбиение строки на столбцы\n",
    "forecast['datetime'] = pd.to_datetime(forecast['date'] + ' ' + forecast['hour'].str.zfill(2)) # создание столбца datetime \n",
    "forecast['forecast_date'] = forecast['datetime'] + pd.to_timedelta(forecast['step'].astype(int), unit = 'h') # создание datetime, на который производился прогноз\n",
    "forecast.head()"
   ]
  },
  {
   "cell_type": "markdown",
   "metadata": {},
   "source": [
    "Загрузим координаты ячеек, преобразуем их в geojson, напишем функцию для расчета центра ячейки (для простановки маркеров):"
   ]
  },
  {
   "cell_type": "code",
   "execution_count": 4,
   "metadata": {
    "collapsed": true
   },
   "outputs": [],
   "source": [
    "regions = pd.read_csv('regions.csv', sep = ';')\n",
    "# происходит загрузка координат секторов из файла regions.csv и записываем из в формать geojson для последующей визуализации \n",
    "def get_geojson(dataframe):\n",
    "    features = []\n",
    "    coordinates = []\n",
    "    for z, w, e, s, n in dataframe.values:\n",
    "        c = [(w,n), (e,n), (e, s), (w, s), (w, n)]\n",
    "        coordinates.append([[w,n], [e,n], [e, s], [w, s], [w, n]])\n",
    "        f = geojson.Feature(geometry = geojson.Polygon([c], fill_color = 'blue', outline_color='red'), \\\n",
    "                            name = int(z))\n",
    "        features.append(f)\n",
    "    fc = geojson.FeatureCollection(features)\n",
    "    dump = geojson.dumps(fc)\n",
    "    return (coordinates, dump)\n",
    "# Функция для отображения центра ячейки маркером\n",
    "def get_center(num):\n",
    "    st = regions[regions['region']==int(num)]\n",
    "    return [(st['south'] + (st['north'] - st['south'])/2).values[0], \\\n",
    "            (st['west'] + (st['east'] - st['west'])/2).values[0]]"
   ]
  },
  {
   "cell_type": "code",
   "execution_count": 5,
   "metadata": {
    "collapsed": true
   },
   "outputs": [],
   "source": [
    "# фильтрация ячеек - используются только те, что есть в файле forecast\n",
    "regions1 = regions[regions['region'].isin(forecast['num'].astype(int))]\n",
    "coordinates = get_geojson(regions1)"
   ]
  },
  {
   "cell_type": "code",
   "execution_count": 6,
   "metadata": {
    "collapsed": true
   },
   "outputs": [],
   "source": [
    "# Функция для отрисовки карты. На вход принимает диапазоны дней, часов и номер ячейки. При этом отображается на карте\n",
    "# прогноз на 1 час\n",
    "def show_map(day_range, hour_range, cell):\n",
    "    day_filter = forecast['forecast_date'].dt.day.isin(range(day_range[0], day_range[1]))\n",
    "    hour_filter = forecast['forecast_date'].dt.hour.isin(range(hour_range[0], hour_range[1]))\n",
    "    sd = pd.DataFrame(forecast[(forecast['step']=='1') & day_filter & hour_filter].groupby('num')['y'].sum()).reset_index()\n",
    "    sd['num'] = sd['num'].astype(int)\n",
    "    map_osm_cells = folium.Map(location=[40.748817, -73.985428], zoom_start=11, tiles = 'OpenStreetMap')\n",
    "    map_osm_cells.choropleth(coordinates[1], data = sd, columns = ['num', 'y'], key_on = 'feature.name',\\\n",
    "                             fill_color = 'YlOrRd', fill_opacity = 0.8, reset = True, line_opacity = 0.,)\n",
    "    folium.Marker(get_center(cell), popup = str(cell)).add_to(map_osm_cells)\n",
    "    return display(map_osm_cells)"
   ]
  },
  {
   "cell_type": "code",
   "execution_count": 7,
   "metadata": {
    "collapsed": true
   },
   "outputs": [],
   "source": [
    "#Функция для отрисовки временного ряда: на вход подаем номер ячейки и количество часов назад, которое прогноз был сделан. \n",
    "#Реализация выбора временного диапазона реализована в plotly\n",
    "def show_data(Cell, Step):\n",
    "    max_y_by_num = max(forecast[forecast['num'] == str(Cell)]['y'].max(), data[str(Cell)].max())\n",
    "    data_to_show = forecast[(forecast['num'] == str(Cell)) & (forecast['step'] == str(Step))].sort_values(by = 'datetime')\n",
    "    data_to_show = data_to_show\n",
    "    data1 = data\n",
    "    # Рисуем график\n",
    "    trace1 = Trace(y = data1[str(Cell)], x = data1[str(Cell)].index, name = 'Fact')\n",
    "    trace2 = Trace(y = data_to_show['y'], x = data_to_show['forecast_date'], name = 'Forecast')\n",
    "    error = data_to_show.set_index('forecast_date')['y'] - data1[str(Cell)]\n",
    "    trace3 = Trace(y = error, x = data1[str(Cell)].index, \\\n",
    "                name = 'Forecast Error', fill = 'tozeroy')\n",
    "    \n",
    "    fig_data = [trace1, trace2, trace3]\n",
    "    layout = Layout(\n",
    "        title = 'Yellow NY Taxi Trip Forecast',\n",
    "        yaxis = dict(range = [-error.abs().max(), max_y_by_num], title = 'Trips'),\n",
    "        xaxis = dict(title = 'Date',\n",
    "                    rangeselector = dict(buttons = list([\n",
    "                        dict(count = 1, label = 'day', step = 'day'),\n",
    "                        dict(count = 7, label = 'week', step = 'day'),\n",
    "                        dict(step = 'all', label = 'all')\n",
    "                        ])\n",
    "                        ),\n",
    "                     rangeslider = dict(),\n",
    "                     type = 'date'\n",
    "                    )\n",
    "    )\n",
    "    fig = Figure(data = fig_data, layout = layout)\n",
    "    plotly.offline.iplot(fig)"
   ]
  },
  {
   "cell_type": "code",
   "execution_count": 8,
   "metadata": {},
   "outputs": [
    {
     "data": {
      "application/vnd.jupyter.widget-view+json": {
       "model_id": "1e42c30b1bcb428e861f045b5e19a4d8"
      }
     },
     "metadata": {},
     "output_type": "display_data"
    },
    {
     "data": {
      "text/plain": [
       "<function __main__.show_all>"
      ]
     },
     "execution_count": 8,
     "metadata": {},
     "output_type": "execute_result"
    }
   ],
   "source": [
    "#Вызываем все созданные ранее материалы\n",
    "def show_all(day_range, hour_range, cell, step):\n",
    "    show_data(cell, step)\n",
    "    show_map(day_range, hour_range, cell)\n",
    "    \n",
    "wg.interact(show_all, \\\n",
    "         day_range = wg.IntRangeSlider(min = 1, max = 30, value = [1, 30], layout = wg.Layout(width = '500px')), \\\n",
    "         hour_range = wg.IntRangeSlider(min = 0, max = 23, value = [0, 23], layout = wg.Layout(width = '800px')), \\\n",
    "        cell = sorted(set(forecast['num'])), step = wg.IntSlider(min = 1, max = 6))"
   ]
  }
 ],
 "metadata": {
  "_draft": {
   "nbviewer_url": "https://gist.github.com/791f6dccc936c6f6699fd374999fd84d"
  },
  "anaconda-cloud": {},
  "gist": {
   "data": {
    "description": "taxi_week7.ipynb",
    "public": false
   },
   "id": "791f6dccc936c6f6699fd374999fd84d"
  },
  "kernelspec": {
   "display_name": "Python [default]",
   "language": "python",
   "name": "python2"
  },
  "language_info": {
   "codemirror_mode": {
    "name": "ipython",
    "version": 2
   },
   "file_extension": ".py",
   "mimetype": "text/x-python",
   "name": "python",
   "nbconvert_exporter": "python",
   "pygments_lexer": "ipython2",
   "version": "2.7.13"
  },
  "widgets": {
   "application/vnd.jupyter.widget-state+json": {
    "state": {
     "15e7bdf773af42119e2da544dfb01198": {
      "model_module": "jupyter-js-widgets",
      "model_module_version": "~2.1.4",
      "model_name": "IntSliderModel",
      "state": {
       "_model_module_version": "~2.1.4",
       "_range": true,
       "_view_module_version": "~2.1.4",
       "description": "hour_range",
       "layout": "IPY_MODEL_af35f26fe70a4a86ab3ebde91198419d",
       "max": 23,
       "slider_color": null,
       "value": [
        0,
        9
       ]
      }
     },
     "240365f06a904c6faf1aa03318c78f3d": {
      "model_module": "jupyter-js-widgets",
      "model_module_version": "~2.1.4",
      "model_name": "LayoutModel",
      "state": {
       "_model_module_version": "~2.1.4",
       "_view_module_version": "~2.1.4"
      }
     },
     "2d5f874d53cd4f65aced1d1c5b73aa86": {
      "model_module": "jupyter-js-widgets",
      "model_module_version": "~2.1.4",
      "model_name": "LayoutModel",
      "state": {
       "_model_module_version": "~2.1.4",
       "_view_module_version": "~2.1.4",
       "width": "500px"
      }
     },
     "30e7729dcec343e594315024be66f413": {
      "model_module": "jupyter-js-widgets",
      "model_module_version": "~2.1.4",
      "model_name": "LayoutModel",
      "state": {
       "_model_module_version": "~2.1.4",
       "_view_module_version": "~2.1.4"
      }
     },
     "31a45891705443209d5a4fc0dce6b228": {
      "model_module": "jupyter-js-widgets",
      "model_module_version": "~2.1.4",
      "model_name": "VBoxModel",
      "state": {
       "_dom_classes": [
        "widget-interact"
       ],
       "_model_module_version": "~2.1.4",
       "_view_module_version": "~2.1.4",
       "children": [
        "IPY_MODEL_351e2139df1f4261a91038e5d445c703",
        "IPY_MODEL_15e7bdf773af42119e2da544dfb01198",
        "IPY_MODEL_4d4ea24cdc4b45c294951a1ce73f66f4",
        "IPY_MODEL_88a8d23b05994ed2ab9442d3393ac3d9",
        "IPY_MODEL_a1b61435f0dd49eda7a34baa2299a6c6"
       ],
       "layout": "IPY_MODEL_240365f06a904c6faf1aa03318c78f3d"
      }
     },
     "33f12186341d41e6aafa533415cd135d": {
      "model_module": "jupyter-js-widgets",
      "model_module_version": "~2.1.4",
      "model_name": "LayoutModel",
      "state": {
       "_model_module_version": "~2.1.4",
       "_view_module_version": "~2.1.4",
       "width": "500px"
      }
     },
     "34c71a6c4beb4754b6b4fcdcc741bce0": {
      "model_module": "jupyter-js-widgets",
      "model_module_version": "~2.1.4",
      "model_name": "LayoutModel",
      "state": {
       "_model_module_version": "~2.1.4",
       "_view_module_version": "~2.1.4"
      }
     },
     "351e2139df1f4261a91038e5d445c703": {
      "model_module": "jupyter-js-widgets",
      "model_module_version": "~2.1.4",
      "model_name": "IntSliderModel",
      "state": {
       "_model_module_version": "~2.1.4",
       "_range": true,
       "_view_module_version": "~2.1.4",
       "description": "day_range",
       "layout": "IPY_MODEL_33f12186341d41e6aafa533415cd135d",
       "max": 30,
       "min": 1,
       "slider_color": null,
       "value": [
        1,
        30
       ]
      }
     },
     "392e7d7c934940b4b5c484fc99599a5d": {
      "model_module": "jupyter-js-widgets",
      "model_module_version": "~2.1.4",
      "model_name": "LayoutModel",
      "state": {
       "_model_module_version": "~2.1.4",
       "_view_module_version": "~2.1.4"
      }
     },
     "3f55750b714c4c9cb511d95133a5a544": {
      "model_module": "jupyter-js-widgets",
      "model_module_version": "~2.1.4",
      "model_name": "SliderStyleModel",
      "state": {
       "_model_module_version": "~2.1.4",
       "_view_module_version": "~2.1.4"
      }
     },
     "46824f21aa854bb5be7650049db2c8ac": {
      "model_module": "jupyter-js-widgets",
      "model_module_version": "~2.1.4",
      "model_name": "OutputModel",
      "state": {
       "_dom_classes": [],
       "_model_module": "jupyter-js-widgets",
       "_model_module_version": "~2.1.4",
       "_view_module": "jupyter-js-widgets",
       "_view_module_version": "~2.1.4",
       "layout": "IPY_MODEL_30e7729dcec343e594315024be66f413",
       "msg_throttle": 1
      }
     },
     "4d4ea24cdc4b45c294951a1ce73f66f4": {
      "model_module": "jupyter-js-widgets",
      "model_module_version": "~2.1.4",
      "model_name": "DropdownModel",
      "state": {
       "_model_module_version": "~2.1.4",
       "_options_labels": [
        "1075",
        "1076",
        "1077",
        "1125",
        "1126",
        "1127",
        "1128",
        "1129",
        "1130",
        "1131",
        "1132",
        "1172",
        "1173",
        "1174",
        "1175",
        "1176",
        "1177",
        "1178",
        "1179",
        "1180",
        "1181",
        "1182",
        "1183",
        "1184",
        "1221",
        "1222",
        "1223",
        "1224",
        "1225",
        "1227",
        "1228",
        "1229",
        "1230",
        "1231",
        "1232",
        "1233",
        "1234",
        "1235",
        "1272",
        "1273",
        "1274",
        "1278",
        "1279",
        "1280",
        "1281",
        "1282",
        "1283",
        "1284",
        "1285",
        "1286",
        "1287",
        "1326",
        "1327",
        "1331",
        "1332",
        "1333",
        "1334",
        "1335",
        "1336",
        "1337",
        "1338",
        "1339",
        "1376",
        "1377",
        "1378",
        "1380",
        "1382",
        "1383",
        "1384",
        "1385",
        "1386",
        "1387",
        "1388",
        "1389",
        "1390",
        "1426",
        "1431",
        "1434",
        "1435",
        "1436",
        "1437",
        "1438",
        "1439",
        "1441",
        "1442",
        "1480",
        "1482",
        "1483",
        "1530",
        "1532",
        "1533",
        "1580",
        "1630",
        "1684",
        "1733",
        "1734",
        "1783",
        "2068",
        "2069",
        "2118",
        "2119",
        "2168"
       ],
       "_view_module_version": "~2.1.4",
       "description": "cell",
       "layout": "IPY_MODEL_98be5c0ed1b94bcba80f66c4a1c7a663",
       "value": "1174"
      }
     },
     "5809c0eb1be74f039027e6a7c59366a8": {
      "model_module": "jupyter-js-widgets",
      "model_module_version": "~2.1.4",
      "model_name": "IntSliderModel",
      "state": {
       "_model_module_version": "~2.1.4",
       "_range": true,
       "_view_module_version": "~2.1.4",
       "description": "hour_range",
       "layout": "IPY_MODEL_61f0b6c1b2584ca4b3396167e4a2a2ac",
       "max": 23,
       "slider_color": null,
       "value": [
        0,
        23
       ]
      }
     },
     "5fdec9d43f234ecc8a6a87ccdb71e458": {
      "model_module": "jupyter-js-widgets",
      "model_module_version": "~2.1.4",
      "model_name": "LayoutModel",
      "state": {
       "_model_module_version": "~2.1.4",
       "_view_module_version": "~2.1.4"
      }
     },
     "61d2af9b6a7c420d8edaed5a5cc75848": {
      "model_module": "jupyter-js-widgets",
      "model_module_version": "~2.1.4",
      "model_name": "LayoutModel",
      "state": {
       "_model_module_version": "~2.1.4",
       "_view_module_version": "~2.1.4"
      }
     },
     "61f0b6c1b2584ca4b3396167e4a2a2ac": {
      "model_module": "jupyter-js-widgets",
      "model_module_version": "~2.1.4",
      "model_name": "LayoutModel",
      "state": {
       "_model_module_version": "~2.1.4",
       "_view_module_version": "~2.1.4",
       "width": "800px"
      }
     },
     "6a23dbf7faa54df0a3840f579982892b": {
      "model_module": "jupyter-js-widgets",
      "model_module_version": "~2.1.4",
      "model_name": "VBoxModel",
      "state": {
       "_dom_classes": [
        "widget-interact"
       ],
       "_model_module_version": "~2.1.4",
       "_view_module_version": "~2.1.4",
       "children": [
        "IPY_MODEL_bd5a6e190a9e4ce0b6f5595aa79840a3",
        "IPY_MODEL_5809c0eb1be74f039027e6a7c59366a8",
        "IPY_MODEL_8844a0f6aff147bc84d4dea104b8b800",
        "IPY_MODEL_fccbaf22049b43eb8fb82775983cdf99",
        "IPY_MODEL_46824f21aa854bb5be7650049db2c8ac"
       ],
       "layout": "IPY_MODEL_6c102e7209ab4472b8cadfe21a486411"
      }
     },
     "6c102e7209ab4472b8cadfe21a486411": {
      "model_module": "jupyter-js-widgets",
      "model_module_version": "~2.1.4",
      "model_name": "LayoutModel",
      "state": {
       "_model_module_version": "~2.1.4",
       "_view_module_version": "~2.1.4"
      }
     },
     "6e912bd8bea94192b7698f93617a351a": {
      "model_module": "jupyter-js-widgets",
      "model_module_version": "~2.1.4",
      "model_name": "SliderStyleModel",
      "state": {
       "_model_module_version": "~2.1.4",
       "_view_module_version": "~2.1.4"
      }
     },
     "8844a0f6aff147bc84d4dea104b8b800": {
      "model_module": "jupyter-js-widgets",
      "model_module_version": "~2.1.4",
      "model_name": "DropdownModel",
      "state": {
       "_model_module_version": "~2.1.4",
       "_options_labels": [
        "1075",
        "1076",
        "1077",
        "1125",
        "1126",
        "1127",
        "1128",
        "1129",
        "1130",
        "1131",
        "1132",
        "1172",
        "1173",
        "1174",
        "1175",
        "1176",
        "1177",
        "1178",
        "1179",
        "1180",
        "1181",
        "1182",
        "1183",
        "1184",
        "1221",
        "1222",
        "1223",
        "1224",
        "1225",
        "1227",
        "1228",
        "1229",
        "1230",
        "1231",
        "1232",
        "1233",
        "1234",
        "1235",
        "1272",
        "1273",
        "1274",
        "1278",
        "1279",
        "1280",
        "1281",
        "1282",
        "1283",
        "1284",
        "1285",
        "1286",
        "1287",
        "1326",
        "1327",
        "1331",
        "1332",
        "1333",
        "1334",
        "1335",
        "1336",
        "1337",
        "1338",
        "1339",
        "1376",
        "1377",
        "1378",
        "1380",
        "1382",
        "1383",
        "1384",
        "1385",
        "1386",
        "1387",
        "1388",
        "1389",
        "1390",
        "1426",
        "1431",
        "1434",
        "1435",
        "1436",
        "1437",
        "1438",
        "1439",
        "1441",
        "1442",
        "1480",
        "1482",
        "1483",
        "1530",
        "1532",
        "1533",
        "1580",
        "1630",
        "1684",
        "1733",
        "1734",
        "1783",
        "2068",
        "2069",
        "2118",
        "2119",
        "2168"
       ],
       "_view_module_version": "~2.1.4",
       "description": "cell",
       "layout": "IPY_MODEL_5fdec9d43f234ecc8a6a87ccdb71e458",
       "value": "1132"
      }
     },
     "88a8d23b05994ed2ab9442d3393ac3d9": {
      "model_module": "jupyter-js-widgets",
      "model_module_version": "~2.1.4",
      "model_name": "IntSliderModel",
      "state": {
       "_model_module_version": "~2.1.4",
       "_view_module_version": "~2.1.4",
       "description": "step",
       "layout": "IPY_MODEL_392e7d7c934940b4b5c484fc99599a5d",
       "max": 6,
       "min": 1,
       "style": "IPY_MODEL_6e912bd8bea94192b7698f93617a351a",
       "value": 1
      }
     },
     "98be5c0ed1b94bcba80f66c4a1c7a663": {
      "model_module": "jupyter-js-widgets",
      "model_module_version": "~2.1.4",
      "model_name": "LayoutModel",
      "state": {
       "_model_module_version": "~2.1.4",
       "_view_module_version": "~2.1.4"
      }
     },
     "a1b61435f0dd49eda7a34baa2299a6c6": {
      "model_module": "jupyter-js-widgets",
      "model_module_version": "~2.1.4",
      "model_name": "OutputModel",
      "state": {
       "_dom_classes": [],
       "_model_module": "jupyter-js-widgets",
       "_model_module_version": "~2.1.4",
       "_view_module": "jupyter-js-widgets",
       "_view_module_version": "~2.1.4",
       "layout": "IPY_MODEL_61d2af9b6a7c420d8edaed5a5cc75848",
       "msg_throttle": 1
      }
     },
     "af35f26fe70a4a86ab3ebde91198419d": {
      "model_module": "jupyter-js-widgets",
      "model_module_version": "~2.1.4",
      "model_name": "LayoutModel",
      "state": {
       "_model_module_version": "~2.1.4",
       "_view_module_version": "~2.1.4",
       "width": "800px"
      }
     },
     "bd5a6e190a9e4ce0b6f5595aa79840a3": {
      "model_module": "jupyter-js-widgets",
      "model_module_version": "~2.1.4",
      "model_name": "IntSliderModel",
      "state": {
       "_model_module_version": "~2.1.4",
       "_range": true,
       "_view_module_version": "~2.1.4",
       "description": "day_range",
       "layout": "IPY_MODEL_2d5f874d53cd4f65aced1d1c5b73aa86",
       "max": 30,
       "min": 1,
       "slider_color": null,
       "value": [
        1,
        30
       ]
      }
     },
     "fccbaf22049b43eb8fb82775983cdf99": {
      "model_module": "jupyter-js-widgets",
      "model_module_version": "~2.1.4",
      "model_name": "IntSliderModel",
      "state": {
       "_model_module_version": "~2.1.4",
       "_view_module_version": "~2.1.4",
       "description": "step",
       "layout": "IPY_MODEL_34c71a6c4beb4754b6b4fcdcc741bce0",
       "max": 6,
       "min": 1,
       "style": "IPY_MODEL_3f55750b714c4c9cb511d95133a5a544",
       "value": 1
      }
     }
    },
    "version_major": 1,
    "version_minor": 0
   }
  }
 },
 "nbformat": 4,
 "nbformat_minor": 2
}
